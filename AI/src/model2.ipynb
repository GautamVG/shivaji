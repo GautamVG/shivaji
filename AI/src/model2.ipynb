{
 "cells": [
  {
   "cell_type": "code",
   "execution_count": 1,
   "metadata": {},
   "outputs": [],
   "source": [
    "import numpy as np\n",
    "import pandas as pd\n",
    "import tensorflow as tf\n",
    "from tensorflow.keras.layers import Input, Dense, Embedding, Concatenate, Flatten\n",
    "from tensorflow.keras.models import Model\n",
    "from sklearn.model_selection import train_test_split\n",
    "from sklearn.preprocessing import LabelEncoder, MinMaxScaler"
   ]
  },
  {
   "cell_type": "code",
   "execution_count": 2,
   "metadata": {},
   "outputs": [],
   "source": [
    "df = pd.read_csv('../dataset/dataset.csv')"
   ]
  },
  {
   "cell_type": "code",
   "execution_count": 3,
   "metadata": {},
   "outputs": [],
   "source": [
    "train_data, test_data = train_test_split(df, test_size=0.2)\n",
    "input_features = ['LTP', 'timestamp'] \n",
    "target_variable = 'Symbol'"
   ]
  },
  {
   "cell_type": "code",
   "execution_count": 4,
   "metadata": {},
   "outputs": [],
   "source": [
    "label_encoder = LabelEncoder()\n",
    "train_data[target_variable] = label_encoder.fit_transform(train_data[target_variable])"
   ]
  },
  {
   "cell_type": "code",
   "execution_count": null,
   "metadata": {},
   "outputs": [],
   "source": [
    "scaler = MinMaxScaler()\n",
    "train_data[input_features] = scaler.fit_transform(train_data[input_features])\n"
   ]
  },
  {
   "cell_type": "code",
   "execution_count": null,
   "metadata": {},
   "outputs": [],
   "source": [
    "def transformer_encoder(inputs, num_heads, hidden_units, dropout_rate):\n",
    "    # MHSA bolte\n",
    "    attention = tf.keras.layers.MultiHeadAttention(num_heads=num_heads, key_dim=hidden_units)(inputs, inputs)\n",
    "    attention = tf.keras.layers.Dropout(dropout_rate)(attention)\n",
    "    attention = tf.keras.layers.LayerNormalization(epsilon=1e-6)(inputs + attention)\n",
    "    \n",
    "    # FFN bolte\n",
    "    outputs = tf.keras.layers.Dense(hidden_units, activation='relu')(attention)\n",
    "    outputs = tf.keras.layers.Dense(inputs.shape[-1])(outputs)\n",
    "    outputs = tf.keras.layers.Dropout(dropout_rate)(outputs)\n",
    "    outputs = tf.keras.layers.LayerNormalization(epsilon=1e-6)(attention + outputs)\n",
    "    \n",
    "    return outputs"
   ]
  },
  {
   "cell_type": "code",
   "execution_count": null,
   "metadata": {},
   "outputs": [],
   "source": [
    "def transformer_model(input_dim, output_dim, num_heads, hidden_units, num_blocks, dropout_rate):\n",
    "    inputs = Input(shape=(input_dim,))\n",
    "    x = Embedding(input_dim, output_dim)(inputs)\n",
    "    \n",
    "    time_inputs = Input(shape=(1,))\n",
    "    time_embed = Embedding(1440, output_dim)(time_inputs)  \n",
    "    x = Concatenate()([x, time_embed])\n",
    "    \n",
    "    for _ in range(num_blocks):\n",
    "        x = transformer_encoder(x, num_heads, hidden_units, dropout_rate)\n",
    "    \n",
    "    x = Flatten()(x)\n",
    "    outputs = Dense(output_dim, activation='softmax')(x)\n",
    "    \n",
    "    model = Model(inputs=[inputs, time_inputs], outputs=outputs)\n",
    "    return model\n"
   ]
  },
  {
   "cell_type": "code",
   "execution_count": null,
   "metadata": {},
   "outputs": [],
   "source": [
    "input_dim = len(input_features)\n",
    "output_dim = 64\n",
    "num_heads = 8\n",
    "hidden_units = 256\n",
    "num_blocks = 4\n",
    "dropout_rate = 0.1\n",
    "batch_size = 32\n",
    "epochs = 10"
   ]
  },
  {
   "cell_type": "code",
   "execution_count": null,
   "metadata": {},
   "outputs": [],
   "source": [
    "model = transformer_model(input_dim, output_dim, num_heads, hidden_units, num_blocks, dropout_rate)\n",
    "model.compile(optimizer='adam', loss='sparse_categorical_crossentropy', metrics=['accuracy'])\n"
   ]
  },
  {
   "cell_type": "code",
   "execution_count": null,
   "metadata": {},
   "outputs": [],
   "source": [
    "train_input = [train_data[input_features].values, train_data['timestamp'].values]\n",
    "train_target = train_data[target_variable].values\n"
   ]
  },
  {
   "cell_type": "code",
   "execution_count": null,
   "metadata": {},
   "outputs": [],
   "source": [
    "model.fit(train_input, train_target, batch_size=batch_size, epochs=epochs)\n"
   ]
  },
  {
   "cell_type": "code",
   "execution_count": null,
   "metadata": {},
   "outputs": [],
   "source": [
    "model.save('fno_predictoni.h5')"
   ]
  }
 ],
 "metadata": {
  "kernelspec": {
   "display_name": "venv",
   "language": "python",
   "name": "python3"
  },
  "language_info": {
   "codemirror_mode": {
    "name": "ipython",
    "version": 3
   },
   "file_extension": ".py",
   "mimetype": "text/x-python",
   "name": "python",
   "nbconvert_exporter": "python",
   "pygments_lexer": "ipython3",
   "version": "3.11.4"
  },
  "orig_nbformat": 4
 },
 "nbformat": 4,
 "nbformat_minor": 2
}
